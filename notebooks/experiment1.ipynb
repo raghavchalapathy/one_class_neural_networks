{
 "cells": [
  {
   "cell_type": "markdown",
   "metadata": {},
   "source": [
    "### Import Required Models and Helper Classes"
   ]
  },
  {
   "cell_type": "code",
   "execution_count": 1,
   "metadata": {},
   "outputs": [
    {
     "name": "stderr",
     "output_type": "stream",
     "text": [
      "Using TensorFlow backend.\n"
     ]
    }
   ],
   "source": [
    "PROJECT_DIR = \"/Users/raghav/envPython3/experiments/one_class_neural_networks/\"\n",
    "import sys,os\n",
    "import numpy as np\n",
    "sys.path.append(PROJECT_DIR)\n",
    "from src.data.make_dataset import CreateDataSet\n",
    "from src.models.fakeNoiseNN import FakeNoiseNN\n",
    "\n",
    "## Create data for training and testing\n",
    "createData = CreateDataSet()"
   ]
  },
  {
   "cell_type": "markdown",
   "metadata": {},
   "source": [
    "## Signatures of the methods\n",
    "\n",
    "\n",
    "### ===============================================================\n",
    "get_TestingData: \n",
    "        returns-> 220 : 1s and 11: 7s\n",
    "\n",
    " get_TrainingData: \n",
    "        returns-> 220 : 1s\n",
    "\n",
    "### ===============================================================\n",
    "\n",
    "get_TestingData_With_Random_UniformNoise: \n",
    "        returns-> 220 : 1s and 220: URN( Uniform Random Noise)\n",
    "\n",
    "get_FAKE_Noise_TrainingData\n",
    "        returns-> 220 : URN\n",
    "\n",
    "### ===============================================================\n",
    "\n",
    "\n",
    "#### ===============================================================\n",
    "### Experiment Setup\n",
    "\n",
    "\n",
    "- for all methods, the test set is exactly the same (i.e., ones and sevens)\n",
    "\n",
    "- for OCNN_FakeNoise, the training set does include uniform noise; what we do is treat these as negatives, and add a new term to the objective, which measures the hinge loss when making predictions for these fake points. This is almost exactly the same as the Keras FakeNN method, but instead of using cross-entropy loss, we use hinge-loss; and we additionally learn a parameter r, which controls the fraction of points predicted to be anomalous\n",
    "\n"
   ]
  },
  {
   "cell_type": "code",
   "execution_count": 2,
   "metadata": {},
   "outputs": [
    {
     "name": "stdout",
     "output_type": "stream",
     "text": [
      "StandardScaler(copy=True, with_mean=True, with_std=True)\n",
      "StandardScaler(copy=True, with_mean=True, with_std=True)\n"
     ]
    }
   ],
   "source": [
    "## Obtaining the training and testing data\n",
    "X_Pos,X_PosLabel = createData.get_TrainingData()\n",
    "[Xtest_Pos,label_ones,Xtest_Neg,label_sevens]= createData.get_TestingData()"
   ]
  },
  {
   "cell_type": "markdown",
   "metadata": {},
   "source": [
    "## FAKE_NOISE_KerasBinaryClassifier"
   ]
  },
  {
   "cell_type": "code",
   "execution_count": 5,
   "metadata": {},
   "outputs": [
    {
     "name": "stdout",
     "output_type": "stream",
     "text": [
      "Training the Keras Binary classifier.....\n",
      "Train on 352 samples, validate on 88 samples\n",
      "Epoch 1/1\n",
      "352/352 [==============================] - 0s 714us/step - loss: 0.6743 - acc: 0.6960 - val_loss: 0.0095 - val_acc: 1.0000\n",
      "Trained Model is Saved at relative path inside PROJECT_DIR  ../models/supervisedBC/\n",
      "0.9942148760330579\n",
      "===================================\n",
      "AUC: 0.9942148760330579\n",
      "===================================\n"
     ]
    }
   ],
   "source": [
    "\n",
    "\n",
    "## Fake Noise data to be generated which will be added to the training set before training\n",
    "X_Neg,X_NegLabel = createData.get_FAKE_Noise_TrainingData(X_Pos)\n",
    "\n",
    "## Create an Binary supervised classifier instance\n",
    "clf_FakeNoiseNN =  FakeNoiseNN()\n",
    "clf_FakeNoiseNN.fit(X_Pos,X_PosLabel,X_Neg,X_NegLabel)  ## fit takes Normal and FakeNoise concatenates before training\n",
    "res = clf_FakeNoiseNN.predict(Xtest_Pos,Xtest_Neg)\n",
    "print(\"=\"*35)\n",
    "print(\"AUC:\",res)\n",
    "print(\"=\"*35)"
   ]
  },
  {
   "cell_type": "markdown",
   "metadata": {},
   "source": [
    "## SKLEARN OCSVM"
   ]
  },
  {
   "cell_type": "code",
   "execution_count": 6,
   "metadata": {},
   "outputs": [
    {
     "name": "stdout",
     "output_type": "stream",
     "text": [
      "Training the OCSVM classifier.....\n",
      "===================================\n",
      "AUC: 1.0\n",
      "===================================\n"
     ]
    },
    {
     "data": {
      "image/png": "[encoded data removed]",
      "text/plain": [
       "<Figure size 432x288 with 1 Axes>"
      ]
     },
     "metadata": {},
     "output_type": "display_data"
    }
   ],
   "source": [
    "##create the classifier\n",
    "from src.models.ocsvmSklearn import OCSVM\n",
    "ocsvm = OCSVM()\n",
    "nu= 0.04\n",
    "kernel = 'rbf'\n",
    "clf = ocsvm.fit(X_Pos,nu,kernel)\n",
    "res = ocsvm.score(clf,Xtest_Pos,Xtest_Neg)\n",
    "print(\"=\"*35)\n",
    "print(\"AUC:\",res)\n",
    "print(\"=\"*35)"
   ]
  },
  {
   "cell_type": "markdown",
   "metadata": {},
   "source": [
    "### OC-NN\n"
   ]
  },
  {
   "cell_type": "code",
   "execution_count": 7,
   "metadata": {},
   "outputs": [
    {
     "name": "stdout",
     "output_type": "stream",
     "text": [
      "Training the OCNN classifier.....\n",
      "Training OC-NN started for epochs:  100\n",
      "Epoch = 1, r = -566.405496, Cost = 18809752.000000\n",
      "Epoch = 2, r = -565.850132, Cost = 18769572.000000\n",
      "Epoch = 3, r = -565.294673, Cost = 18729436.000000\n",
      "Epoch = 4, r = -564.739231, Cost = 18689348.000000\n",
      "Epoch = 5, r = -564.183911, Cost = 18649310.000000\n",
      "Epoch = 6, r = -563.628699, Cost = 18609318.000000\n",
      "Epoch = 7, r = -563.073423, Cost = 18569374.000000\n",
      "Epoch = 8, r = -562.518223, Cost = 18529482.000000\n",
      "Epoch = 9, r = -561.963223, Cost = 18489644.000000\n",
      "Epoch = 10, r = -561.422817, Cost = 18449850.000000\n",
      "Epoch = 11, r = -560.890002, Cost = 18410110.000000\n",
      "Epoch = 12, r = -560.357217, Cost = 18370422.000000\n",
      "Epoch = 13, r = -559.824661, Cost = 18330788.000000\n",
      "Epoch = 14, r = -559.292102, Cost = 18291210.000000\n",
      "Epoch = 15, r = -558.759758, Cost = 18251682.000000\n",
      "Epoch = 16, r = -558.227505, Cost = 18212212.000000\n",
      "Epoch = 17, r = -557.695342, Cost = 18172798.000000\n",
      "Epoch = 18, r = -557.163330, Cost = 18133436.000000\n",
      "Epoch = 19, r = -556.631440, Cost = 18094136.000000\n",
      "Epoch = 20, r = -556.099717, Cost = 18054890.000000\n",
      "Epoch = 21, r = -555.568130, Cost = 18015700.000000\n",
      "Epoch = 22, r = -555.017063, Cost = 17976570.000000\n",
      "Epoch = 23, r = -554.416191, Cost = 17937496.000000\n",
      "Epoch = 24, r = -553.815457, Cost = 17898484.000000\n",
      "Epoch = 25, r = -553.215076, Cost = 17859530.000000\n",
      "Epoch = 26, r = -552.683716, Cost = 17820634.000000\n",
      "Epoch = 27, r = -552.163362, Cost = 17781800.000000\n",
      "Epoch = 28, r = -551.643147, Cost = 17743024.000000\n",
      "Epoch = 29, r = -551.123147, Cost = 17704310.000000\n",
      "Epoch = 30, r = -550.603252, Cost = 17665656.000000\n",
      "Epoch = 31, r = -550.083633, Cost = 17627060.000000\n",
      "Epoch = 32, r = -549.564211, Cost = 17588528.000000\n",
      "Epoch = 33, r = -549.044961, Cost = 17550060.000000\n",
      "Epoch = 34, r = -548.525891, Cost = 17511650.000000\n",
      "Epoch = 35, r = -548.006990, Cost = 17473300.000000\n",
      "Epoch = 36, r = -547.488333, Cost = 17435014.000000\n",
      "Epoch = 37, r = -546.969922, Cost = 17396792.000000\n",
      "Epoch = 38, r = -546.451648, Cost = 17358630.000000\n",
      "Epoch = 39, r = -545.933586, Cost = 17320530.000000\n",
      "Epoch = 40, r = -545.415801, Cost = 17282492.000000\n",
      "Epoch = 41, r = -544.898108, Cost = 17244520.000000\n",
      "Epoch = 42, r = -544.380674, Cost = 17206608.000000\n",
      "Epoch = 43, r = -543.863530, Cost = 17168756.000000\n",
      "Epoch = 44, r = -543.346509, Cost = 17130970.000000\n",
      "Epoch = 45, r = -542.829731, Cost = 17093250.000000\n",
      "Epoch = 46, r = -542.313169, Cost = 17055588.000000\n",
      "Epoch = 47, r = -541.796912, Cost = 17017988.000000\n",
      "Epoch = 48, r = -541.280718, Cost = 16980456.000000\n",
      "Epoch = 49, r = -540.764902, Cost = 16942982.000000\n",
      "Epoch = 50, r = -540.249194, Cost = 16905574.000000\n",
      "Epoch = 51, r = -539.733733, Cost = 16868228.000000\n",
      "Epoch = 52, r = -539.218560, Cost = 16830944.000000\n",
      "Epoch = 53, r = -538.703525, Cost = 16793724.000000\n",
      "Epoch = 54, r = -538.188796, Cost = 16756568.000000\n",
      "Epoch = 55, r = -537.674236, Cost = 16719473.000000\n",
      "Epoch = 56, r = -537.159949, Cost = 16682442.000000\n",
      "Epoch = 57, r = -536.645847, Cost = 16645475.000000\n",
      "Epoch = 58, r = -536.131973, Cost = 16608569.000000\n",
      "Epoch = 59, r = -535.618330, Cost = 16571727.000000\n",
      "Epoch = 60, r = -535.104915, Cost = 16534948.000000\n",
      "Epoch = 61, r = -534.591775, Cost = 16498231.000000\n",
      "Epoch = 62, r = -534.078804, Cost = 16461577.000000\n",
      "Epoch = 63, r = -533.566121, Cost = 16424986.000000\n",
      "Epoch = 64, r = -533.053594, Cost = 16388457.000000\n",
      "Epoch = 65, r = -532.541401, Cost = 16351990.000000\n",
      "Epoch = 66, r = -532.029331, Cost = 16315586.000000\n",
      "Epoch = 67, r = -531.517537, Cost = 16279247.000000\n",
      "Epoch = 68, r = -531.006033, Cost = 16242969.000000\n",
      "Epoch = 69, r = -530.494680, Cost = 16206754.000000\n",
      "Epoch = 70, r = -529.983604, Cost = 16170601.000000\n",
      "Epoch = 71, r = -529.472725, Cost = 16134509.000000\n",
      "Epoch = 72, r = -528.962078, Cost = 16098482.000000\n",
      "Epoch = 73, r = -528.451719, Cost = 16062515.000000\n",
      "Epoch = 74, r = -527.941514, Cost = 16026612.000000\n",
      "Epoch = 75, r = -527.431536, Cost = 15990769.000000\n",
      "Epoch = 76, r = -526.921836, Cost = 15954990.000000\n",
      "Epoch = 77, r = -526.412424, Cost = 15919272.000000\n",
      "Epoch = 78, r = -525.903120, Cost = 15883615.000000\n",
      "Epoch = 79, r = -525.394167, Cost = 15848021.000000\n",
      "Epoch = 80, r = -524.885383, Cost = 15812490.000000\n",
      "Epoch = 81, r = -524.376890, Cost = 15777017.000000\n",
      "Epoch = 82, r = -523.868579, Cost = 15741611.000000\n",
      "Epoch = 83, r = -523.360420, Cost = 15706264.000000\n",
      "Epoch = 84, r = -522.852722, Cost = 15670977.000000\n",
      "Epoch = 85, r = -522.345068, Cost = 15635755.000000\n",
      "Epoch = 86, r = -521.837644, Cost = 15600592.000000\n",
      "Epoch = 87, r = -521.330586, Cost = 15565489.000000\n",
      "Epoch = 88, r = -520.823667, Cost = 15530449.000000\n",
      "Epoch = 89, r = -520.317007, Cost = 15495472.000000\n",
      "Epoch = 90, r = -519.810637, Cost = 15460553.000000\n",
      "Epoch = 91, r = -519.304390, Cost = 15425696.000000\n",
      "Epoch = 92, r = -518.798401, Cost = 15390903.000000\n",
      "Epoch = 93, r = -518.292749, Cost = 15356168.000000\n",
      "Epoch = 94, r = -517.787144, Cost = 15321494.000000\n",
      "Epoch = 95, r = -517.281921, Cost = 15286882.000000\n",
      "Epoch = 96, r = -516.776912, Cost = 15252331.000000\n",
      "Epoch = 97, r = -516.272085, Cost = 15217839.000000\n",
      "Epoch = 98, r = -515.767549, Cost = 15183410.000000\n",
      "Epoch = 99, r = -515.263257, Cost = 15149040.000000\n",
      "Epoch = 100, r = -514.759180, Cost = 15114729.000000\n",
      "===================================\n",
      "AUC: 0.3504132231404959\n",
      "===================================\n"
     ]
    },
    {
     "data": {
      "image/png": "[encoded data removed]",
      "text/plain": [
       "<Figure size 432x288 with 1 Axes>"
      ]
     },
     "metadata": {},
     "output_type": "display_data"
    }
   ],
   "source": [
    "##create the classifier\n",
    "## Instantiate the object and call the function\n",
    "from src.models.ocnn import OCNN\n",
    "ocnn = OCNN()\n",
    "\n",
    "nu= 0.04\n",
    "activation = 'sigmoid'\n",
    "epochs = 100\n",
    "ocnn.fit(X_Pos,nu,activation,epochs)\n",
    "res = ocnn.score(Xtest_Pos,Xtest_Neg) \n",
    "print(\"=\"*35)\n",
    "print(\"AUC:\",res)\n",
    "print(\"=\"*35)\n",
    "\n",
    "\n",
    "\n",
    "\n"
   ]
  },
  {
   "cell_type": "markdown",
   "metadata": {},
   "source": [
    "### OC-NN WITH FAKENOISE"
   ]
  },
  {
   "cell_type": "code",
   "execution_count": null,
   "metadata": {},
   "outputs": [
    {
     "name": "stdout",
     "output_type": "stream",
     "text": [
      "Training the OCNN classifier.....\n",
      "X_trainNeg: (220, 256)\n",
      "Training OC-NN started for epochs:  100\n",
      "Epoch = 1, r = -501.361133, Cost = 18837766.000000\n",
      "Epoch = 2, r = -500.858322, Cost = 18797554.000000\n",
      "Epoch = 3, r = -500.355557, Cost = 18757388.000000\n",
      "Epoch = 4, r = -499.852760, Cost = 18717272.000000\n",
      "Epoch = 5, r = -499.350117, Cost = 18677202.000000\n",
      "Epoch = 6, r = -498.847373, Cost = 18637180.000000\n",
      "Epoch = 7, r = -498.344836, Cost = 18597208.000000\n",
      "Epoch = 8, r = -497.842358, Cost = 18557284.000000\n",
      "Epoch = 9, r = -497.339858, Cost = 18517418.000000\n",
      "Epoch = 10, r = -496.837417, Cost = 18477596.000000\n",
      "Epoch = 11, r = -496.335190, Cost = 18437824.000000\n",
      "Epoch = 12, r = -495.832985, Cost = 18398108.000000\n",
      "Epoch = 13, r = -495.330970, Cost = 18358442.000000\n",
      "Epoch = 14, r = -494.828945, Cost = 18318834.000000\n",
      "Epoch = 15, r = -494.327189, Cost = 18279278.000000\n",
      "Epoch = 16, r = -493.825460, Cost = 18239776.000000\n",
      "Epoch = 17, r = -493.323929, Cost = 18200332.000000\n",
      "Epoch = 18, r = -492.822489, Cost = 18160942.000000\n",
      "Epoch = 19, r = -492.321277, Cost = 18121612.000000\n",
      "Epoch = 20, r = -491.820239, Cost = 18082336.000000\n",
      "Epoch = 21, r = -491.319299, Cost = 18043116.000000\n",
      "Epoch = 22, r = -490.818540, Cost = 18003956.000000\n",
      "Epoch = 23, r = -490.317986, Cost = 17964854.000000\n",
      "Epoch = 24, r = -489.817576, Cost = 17925810.000000\n",
      "Epoch = 25, r = -489.317424, Cost = 17886824.000000\n",
      "Epoch = 26, r = -488.817330, Cost = 17847902.000000\n",
      "Epoch = 27, r = -488.317550, Cost = 17809038.000000\n",
      "Epoch = 28, r = -487.818027, Cost = 17770232.000000\n",
      "Epoch = 29, r = -487.318617, Cost = 17731488.000000\n",
      "Epoch = 30, r = -486.819403, Cost = 17692802.000000\n",
      "Epoch = 31, r = -486.320494, Cost = 17654180.000000\n",
      "Epoch = 32, r = -485.821775, Cost = 17615618.000000\n",
      "Epoch = 33, r = -485.323326, Cost = 17577118.000000\n",
      "Epoch = 34, r = -484.824991, Cost = 17538676.000000\n",
      "Epoch = 35, r = -484.326930, Cost = 17500298.000000\n",
      "Epoch = 36, r = -483.829142, Cost = 17461986.000000\n",
      "Epoch = 37, r = -483.331519, Cost = 17423730.000000\n",
      "Epoch = 38, r = -482.834153, Cost = 17385540.000000\n",
      "Epoch = 39, r = -482.337062, Cost = 17347410.000000\n",
      "Epoch = 40, r = -481.840166, Cost = 17309344.000000\n",
      "Epoch = 41, r = -481.343589, Cost = 17271338.000000\n",
      "Epoch = 42, r = -480.847162, Cost = 17233396.000000\n",
      "Epoch = 43, r = -480.351086, Cost = 17195518.000000\n",
      "Epoch = 44, r = -479.855144, Cost = 17157702.000000\n",
      "Epoch = 45, r = -479.359574, Cost = 17119948.000000\n",
      "Epoch = 46, r = -478.864202, Cost = 17082256.000000\n",
      "Epoch = 47, r = -478.369071, Cost = 17044630.000000\n",
      "Epoch = 48, r = -477.874214, Cost = 17007068.000000\n"
     ]
    }
   ],
   "source": [
    "## Fake Noise data to be generated which will be added to the training set before training\n",
    "X_Neg,X_NegLabel = createData.get_FAKE_Noise_TrainingData(X_Pos)\n",
    "\n",
    "\n",
    "\n",
    "\n",
    "##create the classifier\n",
    "## Instantiate the object and call the function\n",
    "from src.models.ocnnFakeNoise import OCNNFakeNoiseNN\n",
    "ocnn = OCNNFakeNoiseNN()\n",
    "\n",
    "nu= 0.04\n",
    "activation = 'sigmoid'\n",
    "epochs = 100\n",
    "ocnn.fit(X_Pos,X_Neg,nu,activation,epochs)\n",
    "print(X_Neg.shape)\n",
    "## Testing the OC-NN with Fake Noise\n",
    "res = ocnn.score(Xtest_Pos,Xtest_Neg)\n",
    "print(\"=\"*35)\n",
    "print(\"AUC:\",res)\n",
    "print(\"=\"*35)\n",
    "\n"
   ]
  },
  {
   "cell_type": "code",
   "execution_count": null,
   "metadata": {},
   "outputs": [],
   "source": []
  }
 ],
 "metadata": {
  "kernelspec": {
   "display_name": "Python 3",
   "language": "python",
   "name": "python3"
  },
  "language_info": {
   "codemirror_mode": {
    "name": "ipython",
    "version": 3
   },
   "file_extension": ".py",
   "mimetype": "text/x-python",
   "name": "python",
   "nbconvert_exporter": "python",
   "pygments_lexer": "ipython3",
   "version": "3.6.5"
  }
 },
 "nbformat": 4,
 "nbformat_minor": 2
}
