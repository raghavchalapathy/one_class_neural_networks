{
 "cells": [
  {
   "cell_type": "markdown",
   "metadata": {},
   "source": [
    "### Import Required Models and Helper Classes"
   ]
  },
  {
   "cell_type": "code",
   "execution_count": 25,
   "metadata": {},
   "outputs": [],
   "source": [
    "# from IPython.core.display import HTML\n",
    "# HTML(\"<script>Jupyter.notebook.kernel.restart()</script>\")\n",
    "%reload_ext autoreload\n",
    "%autoreload 2\n",
    "PROJECT_DIR = \"/Users/raghav/envPython3/experiments/one_class_neural_networks/\"\n",
    "import sys,os\n",
    "import numpy as np\n",
    "sys.path.append(PROJECT_DIR)\n",
    "from src.data.make_dataset import CreateDataSet\n",
    "from src.models.fakeNoiseNN import FakeNoiseNN\n",
    "\n",
    "## Create data for training and testing\n",
    "createData = CreateDataSet()"
   ]
  },
  {
   "cell_type": "markdown",
   "metadata": {},
   "source": [
    "## Signatures of the methods\n",
    "\n",
    "\n",
    "### ===============================================================\n",
    "get_USPS_TestingData: \n",
    "        returns-> 220 : 1s and 11: 7s\n",
    " \n",
    "get_LHC_TestingData: \n",
    "        returns-> User can define Number of random Background(Normal) and Signal( Noise) images \n",
    "        \n",
    " get_USPS_TrainingData: \n",
    "        returns-> 220 : 1s\n",
    "\n",
    "get_LHC_TrainingData: \n",
    "        returns-> User Defined: Number of  : Background Images\n",
    "### ===============================================================\n",
    "\n",
    "get_LHC_TestingData_With_Random_UniformNoise: \n",
    "        returns->  User can define number of random Background(Normal) , Signal( Noise) images  and URN uniform random noise samples to be returned\n",
    "\n",
    "get_USPS_TestingData_With_Random_UniformNoise: \n",
    "        returns-> 220 : 1s and 220: URN( Uniform Random Noise)\n",
    "\n",
    "get_FAKE_Noise_TrainingData\n",
    "        returns-> 220 : URN\n",
    "\n",
    "### ===============================================================\n",
    "\n",
    "\n",
    "#### ===============================================================\n",
    "### Experiment Setup\n",
    "\n",
    "\n",
    "- for all methods, the test set is exactly the same (i.e., ones and sevens)\n",
    "\n",
    "- for OCNN_FakeNoise, the training set does include uniform noise; what we do is treat these as negatives, and add a new term to the objective, which measures the hinge loss when making predictions for these fake points. This is almost exactly the same as the Keras FakeNN method, but instead of using cross-entropy loss, we use hinge-loss; and we additionally learn a parameter r, which controls the fraction of points predicted to be anomalous\n",
    "\n"
   ]
  },
  {
   "cell_type": "code",
   "execution_count": 21,
   "metadata": {},
   "outputs": [],
   "source": [
    "## Obtaining the training and testing data\n",
    "LHC_DATA_DIR = PROJECT_DIR+\"/data/lhc/\"\n",
    "NUM_OF_NORMAL = 5000\n",
    "NUM_OF_ANOMALIES= 50\n",
    "[normal, anomalies] = createData.load_LHCDataset(LHC_DATA_DIR)\n"
   ]
  },
  {
   "cell_type": "code",
   "execution_count": 22,
   "metadata": {},
   "outputs": [],
   "source": [
    "Xtrain_Pos,Xtrain_PosLabel = createData.get_LHC_TrainingData(normal,NUM_OF_NORMAL,NUM_OF_ANOMALIES)\n",
    "[Xtest_Pos,label_Pos,Xtest_Neg,label_Neg]= createData.get_LHC_TestingData(normal,anomalies,NUM_OF_NORMAL,NUM_OF_ANOMALIES)\n",
    "\n"
   ]
  },
  {
   "cell_type": "markdown",
   "metadata": {},
   "source": [
    "## FAKE_NOISE_KerasBinaryClassifier"
   ]
  },
  {
   "cell_type": "code",
   "execution_count": 33,
   "metadata": {},
   "outputs": [
    {
     "name": "stdout",
     "output_type": "stream",
     "text": [
      "Training the Keras Binary classifier.....\n",
      "Removed Early stopping......\n",
      "Train on 8000 samples, validate on 2000 samples\n",
      "Epoch 1/10\n",
      "8000/8000 [==============================] - 1s 147us/step - loss: 0.0137 - acc: 0.0039 - val_loss: 1.0000e-07 - val_acc: 0.0000e+00\n",
      "Epoch 2/10\n",
      "8000/8000 [==============================] - 0s 31us/step - loss: 1.1201e-07 - acc: 0.0000e+00 - val_loss: 1.0000e-07 - val_acc: 0.0000e+00\n",
      "Epoch 3/10\n",
      "8000/8000 [==============================] - 0s 38us/step - loss: 1.1201e-07 - acc: 0.0000e+00 - val_loss: 1.0000e-07 - val_acc: 0.0000e+00\n",
      "Epoch 4/10\n",
      "8000/8000 [==============================] - 0s 31us/step - loss: 1.1201e-07 - acc: 0.0000e+00 - val_loss: 1.0000e-07 - val_acc: 0.0000e+00\n",
      "Epoch 5/10\n",
      "8000/8000 [==============================] - 0s 31us/step - loss: 1.1201e-07 - acc: 0.0000e+00 - val_loss: 1.0000e-07 - val_acc: 0.0000e+00\n",
      "Epoch 6/10\n",
      "8000/8000 [==============================] - 0s 35us/step - loss: 1.1201e-07 - acc: 0.0000e+00 - val_loss: 1.0000e-07 - val_acc: 0.0000e+00\n",
      "Epoch 7/10\n",
      "8000/8000 [==============================] - 0s 31us/step - loss: 1.1201e-07 - acc: 0.0000e+00 - val_loss: 1.0000e-07 - val_acc: 0.0000e+00\n",
      "Epoch 8/10\n",
      "8000/8000 [==============================] - 0s 31us/step - loss: 1.1201e-07 - acc: 0.0000e+00 - val_loss: 1.0000e-07 - val_acc: 0.0000e+00\n",
      "Epoch 9/10\n",
      "8000/8000 [==============================] - 0s 44us/step - loss: 1.1201e-07 - acc: 0.0000e+00 - val_loss: 1.0000e-07 - val_acc: 0.0000e+00\n",
      "Epoch 10/10\n",
      "8000/8000 [==============================] - 0s 35us/step - loss: 1.1201e-07 - acc: 0.0000e+00 - val_loss: 1.0000e-07 - val_acc: 0.0000e+00\n",
      "Trained Model is Saved at relative path inside PROJECT_DIR  ../models/supervisedBC/\n",
      "0.51247\n",
      "===================================\n",
      "AUC: 0.51247\n",
      "===================================\n"
     ]
    },
    {
     "name": "stderr",
     "output_type": "stream",
     "text": [
      "/Users/raghav/envPython3/lib/python3.6/site-packages/keras/engine/sequential.py:252: UserWarning: Network returning invalid probability values. The last layer might not normalize predictions into probabilities (like softmax or sigmoid would).\n",
      "  warnings.warn('Network returning invalid probability values. '\n"
     ]
    }
   ],
   "source": [
    "%reload_ext autoreload\n",
    "%autoreload 2\n",
    "## Fake Noise data to be generated which will be added to the training set before training\n",
    "X_Neg,X_NegLabel = createData.get_FAKE_Noise_LHC_TrainingData(Xtrain_Pos)\n",
    "\n",
    "## Create an Binary supervised classifier instance\n",
    "NUM_EPOCHS = 10\n",
    "clf_FakeNoiseNN =  FakeNoiseNN()\n",
    "clf_FakeNoiseNN.fit(Xtrain_Pos,Xtrain_PosLabel,X_Neg,X_NegLabel,NUM_EPOCHS)  ## fit takes Normal and FakeNoise concatenates before training\n",
    "res = clf_FakeNoiseNN.predict(Xtest_Pos,Xtest_Neg)\n",
    "auc_FN_Supervised = res\n",
    "print(\"=\"*35)\n",
    "print(\"AUC:\",res)\n",
    "print(\"=\"*35)"
   ]
  },
  {
   "cell_type": "markdown",
   "metadata": {},
   "source": [
    "## SKLEARN OCSVM"
   ]
  },
  {
   "cell_type": "code",
   "execution_count": 34,
   "metadata": {},
   "outputs": [
    {
     "name": "stdout",
     "output_type": "stream",
     "text": [
      "Training the OCSVM classifier.....\n",
      "===================================\n",
      "AUC: 0.532516\n",
      "===================================\n"
     ]
    },
    {
     "data": {
      "image/png": "[encoded data removed]",
      "text/plain": [
       "<Figure size 432x288 with 1 Axes>"
      ]
     },
     "metadata": {},
     "output_type": "display_data"
    }
   ],
   "source": [
    "##create the classifier\n",
    "from src.models.ocsvmSklearn import OCSVM\n",
    "ocsvm = OCSVM()\n",
    "nu= 0.04\n",
    "kernel = 'rbf'\n",
    "clf = ocsvm.fit(Xtrain_Pos,nu,kernel)\n",
    "res = ocsvm.score(clf,Xtest_Pos,Xtest_Neg)\n",
    "auc_OCSVM= res\n",
    "print(\"=\"*35)\n",
    "print(\"AUC:\",res)\n",
    "print(\"=\"*35)"
   ]
  },
  {
   "cell_type": "markdown",
   "metadata": {},
   "source": [
    "### OC-NN\n"
   ]
  },
  {
   "cell_type": "code",
   "execution_count": 36,
   "metadata": {},
   "outputs": [
    {
     "name": "stdout",
     "output_type": "stream",
     "text": [
      "Training the OCNN classifier.....\n",
      "Training OC-NN started for epochs:  10\n",
      "Epoch = 1, r = -537.344160, Cost = 18837492.000000\n",
      "Epoch = 2, r = -536.717744, Cost = 18797312.000000\n",
      "Epoch = 3, r = -536.091272, Cost = 18757176.000000\n",
      "Epoch = 4, r = -535.464976, Cost = 18717088.000000\n",
      "Epoch = 5, r = -534.838616, Cost = 18677050.000000\n",
      "Epoch = 6, r = -534.212380, Cost = 18637058.000000\n",
      "Epoch = 7, r = -533.586265, Cost = 18597114.000000\n",
      "Epoch = 8, r = -532.959746, Cost = 18557222.000000\n",
      "Epoch = 9, r = -532.328892, Cost = 18517382.000000\n",
      "Epoch = 10, r = -531.697917, Cost = 18477588.000000\n",
      "===================================\n",
      "AUC: 0.42841199999999996\n",
      "===================================\n"
     ]
    },
    {
     "data": {
      "image/png": "[encoded data removed]",
      "text/plain": [
       "<Figure size 432x288 with 1 Axes>"
      ]
     },
     "metadata": {},
     "output_type": "display_data"
    }
   ],
   "source": [
    "##create the classifier\n",
    "## Instantiate the object and call the function\n",
    "from src.models.ocnn import OCNN\n",
    "ocnn = OCNN()\n",
    "\n",
    "nu= 0.04\n",
    "activation = 'sigmoid'\n",
    "epochs = 10\n",
    "ocnn.fit(Xtrain_Pos,nu,activation,epochs)\n",
    "res = ocnn.score(Xtest_Pos,Xtest_Neg) \n",
    "auc_OCNN=res\n",
    "print(\"=\"*35)\n",
    "print(\"AUC:\",res)\n",
    "print(\"=\"*35)\n",
    "\n",
    "\n",
    "\n",
    "\n"
   ]
  },
  {
   "cell_type": "markdown",
   "metadata": {},
   "source": [
    "### OC-NN WITH FAKENOISE"
   ]
  },
  {
   "cell_type": "code",
   "execution_count": 38,
   "metadata": {},
   "outputs": [
    {
     "name": "stdout",
     "output_type": "stream",
     "text": [
      "Training the OCNN classifier.....\n",
      "Training OC-NN started for epochs:  10\n",
      "Epoch = 1, Cost = 18837220.000000\n",
      "Epoch = 2, Cost = 18797040.000000\n",
      "Epoch = 3, Cost = 18756904.000000\n",
      "Epoch = 4, Cost = 18716816.000000\n",
      "Epoch = 5, Cost = 18676778.000000\n",
      "Epoch = 6, Cost = 18636786.000000\n",
      "Epoch = 7, Cost = 18596844.000000\n",
      "Epoch = 8, Cost = 18556952.000000\n",
      "Epoch = 9, Cost = 18517114.000000\n",
      "Epoch = 10, Cost = 18477322.000000\n",
      "Saving ON-NN Trained Model weights @ ../models/ocnn/\n",
      "(5000, 1369)\n",
      "Loading ON-NN Trained Model weights @  ../models/ocnn/\n",
      "===================================\n",
      "AUC: 0.487308\n",
      "===================================\n"
     ]
    },
    {
     "data": {
      "image/png": "[encoded data removed]",
      "text/plain": [
       "<Figure size 432x288 with 1 Axes>"
      ]
     },
     "metadata": {},
     "output_type": "display_data"
    }
   ],
   "source": [
    "%reload_ext autoreload\n",
    "%autoreload 2\n",
    "## Fake Noise data to be generated which will be added to the training set before training\n",
    "X_Neg,X_NegLabel = createData.get_FAKE_Noise_LHC_TrainingData(Xtrain_Pos)\n",
    "\n",
    "##create the classifier\n",
    "## Instantiate the object and call the function\n",
    "from src.models.ocnnFakeNoise import OCNNFakeNoiseNN\n",
    "ocnn = OCNNFakeNoiseNN()\n",
    "\n",
    "nu= 0.04\n",
    "activation = 'sigmoid'\n",
    "epochs = 10\n",
    "ocnn.fit(Xtrain_Pos,X_Neg,nu,activation,epochs)\n",
    "print(X_Neg.shape)\n",
    "## Testing the OC-NN with Fake Noise\n",
    "res = ocnn.score(Xtest_Pos,Xtest_Neg)\n",
    "print(\"=\"*35)\n",
    "print(\"AUC:\",res)\n",
    "print(\"=\"*35)\n",
    "\n"
   ]
  },
  {
   "cell_type": "markdown",
   "metadata": {},
   "source": [
    "### Experiments by changing the loss functions\n",
    "\n",
    "## Experiment-1 with (1/nu) term\n",
    "term5 = 1/nu * tf.reduce_sum( tf.maximum(0.0, 1.0 + nnScore(Xneg, w, V, g,bias1,bias2)))\n",
    "\n",
    "\n",
    "## Experiment-2 with (1/nu) and plus r term\n",
    "term5 = 1/nu * tf.reduce_sum( tf.maximum(0.0, r + nnScore(Xneg, w, V, g,bias1,bias2)))"
   ]
  },
  {
   "cell_type": "markdown",
   "metadata": {},
   "source": [
    "## Experiment 1"
   ]
  },
  {
   "cell_type": "code",
   "execution_count": null,
   "metadata": {},
   "outputs": [],
   "source": [
    "## Fake Noise data to be generated which will be added to the training set before training\n",
    "X_Neg,X_NegLabel = createData.get_FAKE_Noise_LHC_TrainingData(Xtrain_Pos)\n",
    "\n",
    "\n",
    "##create the classifier\n",
    "## Instantiate the object and call the function\n",
    "from src.models.ocnnFakeNoise import OCNNFakeNoiseNN\n",
    "ocnn = OCNNFakeNoiseNN()\n",
    "\n",
    "nu= 0.04\n",
    "activation = 'sigmoid'\n",
    "epochs = 100\n",
    "ocnn.fit(Xtrain_Pos,X_Neg,nu,activation,epochs)\n",
    "print(X_Neg.shape)\n",
    "## Testing the OC-NN with Fake Noise\n",
    "res = ocnn.score(Xtest_Pos,Xtest_Neg)\n",
    "print(\"=\"*35)\n",
    "print(\"AUC:\",res)\n",
    "print(\"=\"*35)\n"
   ]
  },
  {
   "cell_type": "markdown",
   "metadata": {},
   "source": [
    " ## With r = 1"
   ]
  },
  {
   "cell_type": "code",
   "execution_count": 40,
   "metadata": {},
   "outputs": [
    {
     "name": "stdout",
     "output_type": "stream",
     "text": [
      "Training the OCNN classifier.....\n",
      "Training OC-NN started for epochs:  10\n",
      "Epoch = 1, Cost = 18837218.000000\n",
      "Epoch = 2, Cost = 18797038.000000\n",
      "Epoch = 3, Cost = 18756902.000000\n",
      "Epoch = 4, Cost = 18716814.000000\n",
      "Epoch = 5, Cost = 18676776.000000\n",
      "Epoch = 6, Cost = 18636784.000000\n",
      "Epoch = 7, Cost = 18596842.000000\n",
      "Epoch = 8, Cost = 18556950.000000\n",
      "Epoch = 9, Cost = 18517112.000000\n",
      "Epoch = 10, Cost = 18477320.000000\n",
      "Saving ON-NN Trained Model weights @ ../models/ocnn/\n",
      "(5000, 1369)\n",
      "Loading ON-NN Trained Model weights @  ../models/ocnn/\n",
      "===================================\n",
      "AUC: 0.487308\n",
      "===================================\n"
     ]
    },
    {
     "data": {
      "image/png": "[encoded data removed]",
      "text/plain": [
       "<Figure size 432x288 with 1 Axes>"
      ]
     },
     "metadata": {},
     "output_type": "display_data"
    }
   ],
   "source": [
    "#### Fake Noise data to be generated which will be added to the training set before training\n",
    "X_Neg,X_NegLabel = createData.get_FAKE_Noise_LHC_TrainingData(Xtrain_Pos)\n",
    "\n",
    "\n",
    "##create the classifier\n",
    "## Instantiate the object and call the function\n",
    "from src.models.ocnnFakeNoise import OCNNFakeNoiseNN\n",
    "ocnn = OCNNFakeNoiseNN()\n",
    "\n",
    "nu= 0.01\n",
    "activation = 'sigmoid'\n",
    "epochs = 10\n",
    "ocnn.fit(Xtrain_Pos,X_Neg,nu,activation,epochs)\n",
    "print(X_Neg.shape)\n",
    "## Testing the OC-NN with Fake Noise\n",
    "res = ocnn.score(Xtest_Pos,Xtest_Neg)\n",
    "auc_FN_OCNN_R_1= res\n",
    "print(\"=\"*35)\n",
    "print(\"AUC:\",res)\n",
    "print(\"=\"*35)"
   ]
  },
  {
   "cell_type": "code",
   "execution_count": 47,
   "metadata": {},
   "outputs": [
    {
     "data": {
      "text/plain": [
       "Text(0.5,1,'AUC Comparision for LHC Dataset ')"
      ]
     },
     "execution_count": 47,
     "metadata": {},
     "output_type": "execute_result"
    },
    {
     "data": {
      "image/png": "[encoded data removed]",
      "text/plain": [
       "<Figure size 432x288 with 1 Axes>"
      ]
     },
     "metadata": {},
     "output_type": "display_data"
    }
   ],
   "source": [
    "import pandas as pd\n",
    "import matplotlib.pyplot as plt\n",
    "\n",
    "auc = np.zeros((1,4))\n",
    "auc[0][0] = auc_FN_Supervised\n",
    "auc[0][1] = auc_OCSVM\n",
    "auc[0][2] = auc_OCNN\n",
    "auc[0][3] = auc_FN_OCNN_R_1\n",
    "\n",
    "\n",
    "\n",
    "df = pd.DataFrame(auc,columns=['FN_Supervised','OCSVM','OCNN','FN_OCNN_R_1'])\n",
    "boxplot = df.boxplot(column=['FN_Supervised', 'OCSVM', 'OCNN','FN_OCNN_R_1'],grid=False)\n",
    "plt.ylabel('AUC')\n",
    "plt.xlabel('Methods')\n",
    "plt.title('AUC Comparision for LHC Dataset ')\n"
   ]
  },
  {
   "cell_type": "code",
   "execution_count": null,
   "metadata": {},
   "outputs": [],
   "source": []
  }
 ],
 "metadata": {
  "kernelspec": {
   "display_name": "Python 3",
   "language": "python",
   "name": "python3"
  },
  "language_info": {
   "codemirror_mode": {
    "name": "ipython",
    "version": 3
   },
   "file_extension": ".py",
   "mimetype": "text/x-python",
   "name": "python",
   "nbconvert_exporter": "python",
   "pygments_lexer": "ipython3",
   "version": "3.6.5"
  }
 },
 "nbformat": 4,
 "nbformat_minor": 2
}
