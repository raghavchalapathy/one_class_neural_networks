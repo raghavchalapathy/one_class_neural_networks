{
 "cells": [
  {
   "cell_type": "code",
   "execution_count": 1,
   "metadata": {},
   "outputs": [
    {
     "name": "stderr",
     "output_type": "stream",
     "text": [
      "Using TensorFlow backend.\n"
     ]
    }
   ],
   "source": [
    "# from IPython.core.display import HTML\n",
    "# HTML(\"<script>Jupyter.notebook.kernel.restart()</script>\")\n",
    "%reload_ext autoreload\n",
    "%autoreload 2\n",
    "PROJECT_DIR = \"/Users/raghav/envPython3/experiments/one_class_neural_networks/\"\n",
    "import sys,os\n",
    "import numpy as np\n",
    "sys.path.append(PROJECT_DIR)\n",
    "from src.data.make_dataset import CreateDataSet\n",
    "from src.models.Lenet import LeNet\n",
    "from src.models.FF_NN import FF_NN\n",
    "## Create data for training and testing\n",
    "createData = CreateDataSet()"
   ]
  },
  {
   "cell_type": "markdown",
   "metadata": {},
   "source": [
    "## Obtain Training and Test Datasets"
   ]
  },
  {
   "cell_type": "code",
   "execution_count": 5,
   "metadata": {},
   "outputs": [
    {
     "name": "stdout",
     "output_type": "stream",
     "text": [
      "5000 Positive test samples\n",
      "1000 Negative test samples\n",
      "5000 Positive test samples\n",
      "50 Negative test samples\n"
     ]
    }
   ],
   "source": [
    "## Obtaining the training and testing data\n",
    "%reload_ext autoreload\n",
    "%autoreload 2\n",
    "NUM_NORMAL = 5000\n",
    "NUM_ANOMALIES = 1000\n",
    "TEST_NUM_ANOMALIES = 50\n",
    "# trainX,trainY = createData.get_MNIST_TrainingData(NUM_NORMAL)\n",
    "trainX,trainY,testX,testY = createData.get_MNIST_TrainingData(NUM_NORMAL,NUM_ANOMALIES)\n",
    "trainX = np.concatenate((trainX,testX),axis=0)\n",
    "trainY = np.concatenate((trainY,testY),axis=0)\n",
    "[Xtest_Pos,label_ones,Xtest_Neg,label_sevens]= createData.get_MNIST_TestingData(NUM_NORMAL,TEST_NUM_ANOMALIES)\n",
    "\n"
   ]
  },
  {
   "cell_type": "markdown",
   "metadata": {},
   "source": [
    "## Train  LeNet Model Supervised Model"
   ]
  },
  {
   "cell_type": "code",
   "execution_count": 6,
   "metadata": {},
   "outputs": [
    {
     "name": "stdout",
     "output_type": "stream",
     "text": [
      "[INFO] compiling model...\n",
      "[INFO] training network...\n",
      "Epoch 1/25\n",
      "187/187 [==============================] - 8s 43ms/step - loss: 0.1077 - acc: 0.9574 - val_loss: 0.0122 - val_acc: 0.9956\n",
      "Epoch 2/25\n",
      "187/187 [==============================] - 8s 44ms/step - loss: 0.0438 - acc: 0.9846 - val_loss: 0.0384 - val_acc: 0.9869\n",
      "Epoch 3/25\n",
      "187/187 [==============================] - 9s 46ms/step - loss: 0.0302 - acc: 0.9888 - val_loss: 0.0099 - val_acc: 0.9964\n",
      "Epoch 4/25\n",
      "187/187 [==============================] - 9s 47ms/step - loss: 0.0300 - acc: 0.9900 - val_loss: 0.0161 - val_acc: 0.9949\n",
      "Epoch 5/25\n",
      "187/187 [==============================] - 9s 48ms/step - loss: 0.0240 - acc: 0.9918 - val_loss: 0.0034 - val_acc: 0.9976\n",
      "Epoch 6/25\n",
      "187/187 [==============================] - 9s 48ms/step - loss: 0.0259 - acc: 0.9915 - val_loss: 0.0026 - val_acc: 0.9990\n",
      "Epoch 7/25\n",
      "187/187 [==============================] - 9s 49ms/step - loss: 0.0236 - acc: 0.9910 - val_loss: 0.0101 - val_acc: 0.9964\n",
      "Epoch 8/25\n",
      "187/187 [==============================] - 9s 49ms/step - loss: 0.0197 - acc: 0.9926 - val_loss: 0.0042 - val_acc: 0.9990\n",
      "Epoch 9/25\n",
      "187/187 [==============================] - 9s 49ms/step - loss: 0.0172 - acc: 0.9940 - val_loss: 0.0056 - val_acc: 0.9980\n",
      "Epoch 10/25\n",
      "187/187 [==============================] - 9s 50ms/step - loss: 0.0192 - acc: 0.9937 - val_loss: 0.0100 - val_acc: 0.9966\n",
      "Epoch 11/25\n",
      "187/187 [==============================] - 9s 49ms/step - loss: 0.0200 - acc: 0.9947 - val_loss: 0.0041 - val_acc: 0.9986\n",
      "Epoch 12/25\n",
      "187/187 [==============================] - 10s 51ms/step - loss: 0.0207 - acc: 0.9936 - val_loss: 0.0070 - val_acc: 0.9970\n",
      "Epoch 13/25\n",
      "187/187 [==============================] - 9s 50ms/step - loss: 0.0172 - acc: 0.9950 - val_loss: 0.0101 - val_acc: 0.9968\n",
      "Epoch 14/25\n",
      "187/187 [==============================] - 9s 50ms/step - loss: 0.0177 - acc: 0.9935 - val_loss: 0.0046 - val_acc: 0.9978\n",
      "Epoch 15/25\n",
      "187/187 [==============================] - 9s 50ms/step - loss: 0.0129 - acc: 0.9952 - val_loss: 0.0061 - val_acc: 0.9978\n",
      "Epoch 16/25\n",
      "187/187 [==============================] - 9s 50ms/step - loss: 0.0194 - acc: 0.9942 - val_loss: 0.0026 - val_acc: 0.9992\n",
      "Epoch 17/25\n",
      "187/187 [==============================] - 9s 51ms/step - loss: 0.0151 - acc: 0.9957 - val_loss: 0.0025 - val_acc: 0.9990\n",
      "Epoch 18/25\n",
      "187/187 [==============================] - 9s 51ms/step - loss: 0.0136 - acc: 0.9945 - val_loss: 0.0200 - val_acc: 0.9923\n",
      "Epoch 19/25\n",
      "187/187 [==============================] - 9s 51ms/step - loss: 0.0195 - acc: 0.9943 - val_loss: 0.0029 - val_acc: 0.9986\n",
      "Epoch 20/25\n",
      "187/187 [==============================] - 10s 51ms/step - loss: 0.0127 - acc: 0.9960 - val_loss: 0.0081 - val_acc: 0.9970\n",
      "Epoch 21/25\n",
      "187/187 [==============================] - 10s 51ms/step - loss: 0.0121 - acc: 0.9957 - val_loss: 0.0028 - val_acc: 0.9990\n",
      "Epoch 22/25\n",
      "187/187 [==============================] - 9s 50ms/step - loss: 0.0114 - acc: 0.9955 - val_loss: 0.0076 - val_acc: 0.9976\n",
      "Epoch 23/25\n",
      "187/187 [==============================] - 9s 50ms/step - loss: 0.0157 - acc: 0.9945 - val_loss: 0.0093 - val_acc: 0.9960\n",
      "Epoch 24/25\n",
      "187/187 [==============================] - 9s 50ms/step - loss: 0.0139 - acc: 0.9947 - val_loss: 0.0050 - val_acc: 0.9980\n",
      "Epoch 25/25\n",
      "187/187 [==============================] - 9s 50ms/step - loss: 0.0125 - acc: 0.9955 - val_loss: 0.0037 - val_acc: 0.9986\n",
      "[INFO] serializing network...\n"
     ]
    }
   ],
   "source": [
    "%reload_ext autoreload\n",
    "%autoreload 2\n",
    "IMG_HGT =28\n",
    "IMG_WDT=28\n",
    "IMG_DEPTH=1\n",
    "### Reshape the numpy array\n",
    "trainX = np.reshape(trainX,(len(trainX),IMG_HGT,IMG_WDT,IMG_DEPTH))\n",
    "Xtest_Pos = np.reshape(Xtest_Pos,(len(Xtest_Pos),IMG_HGT,IMG_WDT,IMG_DEPTH))\n",
    "Xtest_Neg = np.reshape(Xtest_Neg,(len(Xtest_Neg),IMG_HGT,IMG_WDT,IMG_DEPTH))\n",
    "testX = np.concatenate((Xtest_Pos,Xtest_Neg),axis=0)\n",
    "testY = np.concatenate((label_ones,label_sevens),axis=0)\n",
    "nClass =2\n",
    "NUM_EPOCHS = 25\n",
    "\n",
    "clf_LeNet =  LeNet()\n",
    "clf_LeNet.fit(trainX,trainY,testX,testY,NUM_EPOCHS,IMG_HGT,IMG_WDT,IMG_DEPTH,nClass)"
   ]
  },
  {
   "cell_type": "markdown",
   "metadata": {},
   "source": [
    "## Test LeNet Model"
   ]
  },
  {
   "cell_type": "code",
   "execution_count": 7,
   "metadata": {},
   "outputs": [
    {
     "name": "stdout",
     "output_type": "stream",
     "text": [
      "[INFO] loading network...\n",
      "5050 Actual test samples\n",
      "===================================\n",
      "auccary_score: 0.9986138613861386\n",
      "roc_auc_score: 0.9993000000000001\n",
      "y_true [1 1 1 1 1 1 1 1 1 1 1 1 1 1 1 1 1 1 1 1 1 1 1 1 1 1 1 1 1 1 1 1 1 1 1 1 1\n",
      " 1 1 1 1 1 1 1 1 1 1 1 1 1 0 0 0 0 0 0 0 0 0 0 0 0 0 0 0 0 0 0 0 0 0 0 0 0\n",
      " 0 0 0 0 0 0 0 0 0 0 0 0 0 0 0 0 0 0 0 0 0 0 0 0 0 0]\n",
      "y_pred [1 1 1 1 1 1 1 1 1 1 1 1 1 1 1 1 1 1 1 1 1 1 1 1 1 1 1 1 1 1 1 1 1 1 1 1 1\n",
      " 1 1 1 1 1 1 1 1 1 1 1 1 1 0 0 0 0 0 0 0 0 0 0 0 0 0 0 0 0 0 0 0 0 0 0 0 0\n",
      " 0 0 0 0 0 0 0 0 0 0 0 0 0 0 0 0 0 0 0 0 0 0 0 0 0 0]\n",
      "===================================\n",
      "===========\n",
      "AUC:  0.9993000000000001\n",
      "===========\n"
     ]
    }
   ],
   "source": [
    "%reload_ext autoreload\n",
    "%autoreload 2\n",
    "auc_LeNet = clf_LeNet.score(Xtest_Pos,label_ones,Xtest_Neg,label_sevens)\n",
    "print(\"===========\")\n",
    "print(\"AUC: \",auc_LeNet)\n",
    "print(\"===========\")"
   ]
  },
  {
   "cell_type": "code",
   "execution_count": null,
   "metadata": {},
   "outputs": [],
   "source": []
  }
 ],
 "metadata": {
  "kernelspec": {
   "display_name": "Python 3",
   "language": "python",
   "name": "python3"
  },
  "language_info": {
   "codemirror_mode": {
    "name": "ipython",
    "version": 3
   },
   "file_extension": ".py",
   "mimetype": "text/x-python",
   "name": "python",
   "nbconvert_exporter": "python",
   "pygments_lexer": "ipython3",
   "version": "3.6.5"
  }
 },
 "nbformat": 4,
 "nbformat_minor": 2
}
